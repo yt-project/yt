{
 "cells": [
  {
   "cell_type": "markdown",
   "metadata": {},
   "source": [
    "## Loading the data"
   ]
  },
  {
   "cell_type": "markdown",
   "metadata": {},
   "source": [
    "First we set up our imports:"
   ]
  },
  {
   "cell_type": "code",
   "execution_count": null,
   "metadata": {
    "collapsed": false
   },
   "outputs": [],
   "source": [
    "import yt\n",
    "import numpy as np\n",
    "import yt.units as units\n",
    "import pylab"
   ]
  },
  {
   "cell_type": "markdown",
   "metadata": {},
   "source": [
    "First we load the data set, specifying both the unit length/mass/velocity, as well as the size of the bounding box (which should encapsulate all the particles in the data set)\n",
    "\n",
    "At the end, we flatten the data into \"ad\" in case we want access to the raw simulation data"
   ]
  },
  {
   "cell_type": "markdown",
   "metadata": {},
   "source": [
    ">This dataset is available for download at https://yt-project.org/data/GadgetDiskGalaxy.tar.gz (430 MB)."
   ]
  },
  {
   "cell_type": "code",
   "execution_count": null,
   "metadata": {
    "collapsed": false
   },
   "outputs": [],
   "source": [
    "fname = 'GadgetDiskGalaxy/snapshot_200.hdf5'\n",
    "\n",
    "unit_base = {'UnitLength_in_cm'         : 3.08568e+21,\n",
    "             'UnitMass_in_g'            :   1.989e+43,\n",
    "             'UnitVelocity_in_cm_per_s' :      100000}\n",
    "\n",
    "bbox_lim = 1e5 #kpc\n",
    "\n",
    "bbox = [[-bbox_lim,bbox_lim],\n",
    "        [-bbox_lim,bbox_lim],\n",
    "        [-bbox_lim,bbox_lim]]\n",
    " \n",
    "ds = yt.load(fname,unit_base=unit_base,bounding_box=bbox)\n",
    "ds.index\n",
    "ad= ds.all_data()"
   ]
  },
  {
   "cell_type": "markdown",
   "metadata": {},
   "source": [
    "Let's make a projection plot to look at the entire volume"
   ]
  },
  {
   "cell_type": "code",
   "execution_count": null,
   "metadata": {
    "collapsed": false
   },
   "outputs": [],
   "source": [
    "px = yt.ProjectionPlot(ds, 'x', ('gas', 'density'))\n",
    "px.show()"
   ]
  },
  {
   "cell_type": "markdown",
   "metadata": {},
   "source": [
    "Let's print some quantities about the domain, as well as the physical properties of the simulation\n"
   ]
  },
  {
   "cell_type": "code",
   "execution_count": null,
   "metadata": {
    "collapsed": false
   },
   "outputs": [],
   "source": [
    "print ('left edge: ',ds.domain_left_edge)\n",
    "print ('right edge: ',ds.domain_right_edge)\n",
    "print ('center: ',ds.domain_center)"
   ]
  },
  {
   "cell_type": "markdown",
   "metadata": {},
   "source": [
    "We can also see the fields that are available to query in the dataset"
   ]
  },
  {
   "cell_type": "code",
   "execution_count": null,
   "metadata": {
    "collapsed": false
   },
   "outputs": [],
   "source": [
    "sorted(ds.field_list)"
   ]
  },
  {
   "cell_type": "markdown",
   "metadata": {},
   "source": [
    "Let's create a data object that represents the full simulation domain, and find the total mass in gas and dark matter particles contained in it:"
   ]
  },
  {
   "cell_type": "code",
   "execution_count": null,
   "metadata": {
    "collapsed": false
   },
   "outputs": [],
   "source": [
    "ad = ds.all_data()\n",
    "\n",
    "# total_mass returns a list, representing the total gas and dark matter + stellar mass, respectively\n",
    "print ([tm.in_units('Msun') for tm in ad.quantities.total_mass()])"
   ]
  },
  {
   "cell_type": "markdown",
   "metadata": {},
   "source": [
    "Now let's say we want to zoom in on the box (since clearly the bounding we chose initially is much larger than the volume containing the gas particles!), and center on wherever the highest gas density peak is.  First, let's find this peak:"
   ]
  },
  {
   "cell_type": "code",
   "execution_count": null,
   "metadata": {
    "collapsed": false
   },
   "outputs": [],
   "source": [
    "density = ad[(\"PartType0\",\"density\")]\n",
    "wdens = np.where(density == np.max(density))\n",
    "coordinates = ad[(\"PartType0\",\"Coordinates\")]\n",
    "center = coordinates[wdens][0]\n",
    "print ('center = ',center)"
   ]
  },
  {
   "cell_type": "markdown",
   "metadata": {},
   "source": [
    "Set up the box to zoom into"
   ]
  },
  {
   "cell_type": "code",
   "execution_count": null,
   "metadata": {
    "collapsed": false
   },
   "outputs": [],
   "source": [
    "new_box_size = ds.quan(250,'code_length')\n",
    "\n",
    "left_edge = center - new_box_size/2\n",
    "right_edge = center + new_box_size/2\n",
    "\n",
    "print (new_box_size.in_units('Mpc'))\n",
    "print (left_edge.in_units('Mpc'))\n",
    "print (right_edge.in_units('Mpc'))"
   ]
  },
  {
   "cell_type": "code",
   "execution_count": null,
   "metadata": {
    "collapsed": false
   },
   "outputs": [],
   "source": [
    "ad2= ds.region(center=center, left_edge=left_edge, right_edge=right_edge)"
   ]
  },
  {
   "cell_type": "markdown",
   "metadata": {},
   "source": [
    "Using this new data object, let's confirm that we're only looking at a subset of the domain by first calculating the total mass in gas and particles contained in the subvolume:"
   ]
  },
  {
   "cell_type": "code",
   "execution_count": null,
   "metadata": {
    "collapsed": false
   },
   "outputs": [],
   "source": [
    "print ([tm.in_units('Msun') for tm in ad.quantities.total_mass()])"
   ]
  },
  {
   "cell_type": "markdown",
   "metadata": {},
   "source": [
    "And then by visualizing what the new zoomed region looks like"
   ]
  },
  {
   "cell_type": "code",
   "execution_count": null,
   "metadata": {
    "collapsed": false
   },
   "outputs": [],
   "source": [
    "px = yt.ProjectionPlot(ds, 'x', ('gas', 'density'), center=center, width=new_box_size)\n",
    "px.show()"
   ]
  },
  {
   "cell_type": "markdown",
   "metadata": {},
   "source": [
    "Cool - there's a disk galaxy there!"
   ]
  }
 ],
 "metadata": {
  "kernelspec": {
   "display_name": "Python 3",
   "language": "python",
   "name": "python3"
  },
  "language_info": {
   "codemirror_mode": {
    "name": "ipython",
    "version": 3
   },
   "file_extension": ".py",
   "mimetype": "text/x-python",
   "name": "python",
   "nbconvert_exporter": "python",
   "pygments_lexer": "ipython3",
   "version": "3.5.1"
  }
 },
 "nbformat": 4,
 "nbformat_minor": 0
}
