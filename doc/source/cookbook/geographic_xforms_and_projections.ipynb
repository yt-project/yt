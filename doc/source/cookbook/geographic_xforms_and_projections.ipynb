{
 "cells": [
  {
   "cell_type": "markdown",
   "metadata": {},
   "source": [
    "# Geographic Transforms and Projections"
   ]
  },
  {
   "cell_type": "markdown",
   "metadata": {},
   "source": [
    "### Loading the GEOS data "
   ]
  },
  {
   "cell_type": "markdown",
   "metadata": {},
   "source": [
    "For this analysis we'll be loading some global climate data into yt. A frontend does not exist for this dataset yet, so we'll load it in as a uniform grid with netcdf4."
   ]
  },
  {
   "cell_type": "code",
   "execution_count": null,
   "metadata": {},
   "outputs": [],
   "source": [
    "import pprint\n",
    "import yt\n",
    "import numpy as np\n",
    "import re\n",
    "import netCDF4 as nc4\n",
    "import os"
   ]
  },
  {
   "cell_type": "code",
   "execution_count": null,
   "metadata": {},
   "outputs": [],
   "source": [
    "def get_data_path(arg):\n",
    "    if os.path.exists(arg):\n",
    "        return arg\n",
    "    else:\n",
    "        return os.path.join(yt.config.ytcfg.get(\"yt\", \"test_data_dir\"), arg)"
   ]
  },
  {
   "cell_type": "code",
   "execution_count": null,
   "metadata": {},
   "outputs": [],
   "source": [
    "n = nc4.Dataset(get_data_path(\"geos/GEOS.fp.asm.inst3_3d_aer_Nv.20180822_0900.V01.nc4\"))"
   ]
  },
  {
   "cell_type": "markdown",
   "metadata": {},
   "source": [
    "Using the loaded data we'll fill arrays with the data dimensions and limits. We'll also rename `vertical level` to `altitude` to be clearer. "
   ]
  },
  {
   "cell_type": "code",
   "execution_count": null,
   "metadata": {},
   "outputs": [],
   "source": [
    "dims = []\n",
    "sizes = []\n",
    "bbox = []\n",
    "ndims = len(n.dimensions)\n",
    "for dim in n.dimensions.keys():\n",
    "    size = n.variables[dim].size\n",
    "    if size > 1:\n",
    "        bbox.append([n.variables[dim][:].min(),\n",
    "                     n.variables[dim][:].max()])\n",
    "        dims.append(n.variables[dim].long_name)\n",
    "        sizes.append(size)\n",
    "dims.reverse()   # Fortran ordering\n",
    "sizes.reverse()\n",
    "bbox.reverse()\n",
    "dims = [f.replace('vertical level', 'altitude') for f in dims]\n",
    "bbox = np.array(bbox)"
   ]
  },
  {
   "cell_type": "markdown",
   "metadata": {},
   "source": [
    "We'll also load the data into a container dictionary and create a lookup for the short to the long names "
   ]
  },
  {
   "cell_type": "code",
   "execution_count": null,
   "metadata": {},
   "outputs": [],
   "source": [
    "w_regex = re.compile(r'([a-zA-Z]+)(.*)')\n",
    "def regex_parser(s):\n",
    "    try:\n",
    "        return \"**\".join(filter(None, w_regex.search(s).groups()))\n",
    "    except AttributeError:\n",
    "        return s"
   ]
  },
  {
   "cell_type": "code",
   "execution_count": null,
   "metadata": {},
   "outputs": [],
   "source": [
    "data = {}\n",
    "names = {}\n",
    "for field, d in n.variables.items():\n",
    "    if d.ndim != ndims:\n",
    "        continue\n",
    "    units = n.variables[field].units\n",
    "    units =  \" * \".join(map(regex_parser, units.split())) \n",
    "    data[field] = (np.squeeze(d), str(units))\n",
    "    names[field] = n.variables[field].long_name.replace(\"_\", \" \")"
   ]
  },
  {
   "cell_type": "markdown",
   "metadata": {},
   "source": [
    "Now the data can be loaded with yt's `load_uniform_grid` function. We also need to say that the geometry is a `geographic` type. This will ensure that the axes created are matplotlib GeoAxes and that the transform functions are available to use for projections. "
   ]
  },
  {
   "cell_type": "code",
   "execution_count": null,
   "metadata": {},
   "outputs": [],
   "source": [
    "ds = yt.load_uniform_grid(data, sizes, 1.0, geometry=(\"geographic\", dims),\n",
    "                          bbox=bbox)"
   ]
  },
  {
   "cell_type": "markdown",
   "metadata": {},
   "source": [
    "### Default projection with geographic geometry"
   ]
  },
  {
   "cell_type": "markdown",
   "metadata": {},
   "source": [
    "Now that the data is loaded, we can plot it with a yt SlicePlot along the altitude. This will crate a figure with latitude and longitude as the plot axes and the colormap will correspond to the air density. Because no projection type has been set, the geographic geometry type assumes that the data is of the `PlateCarree` form. The resulting figure will be a `Mollweide` plot. "
   ]
  },
  {
   "cell_type": "code",
   "execution_count": null,
   "metadata": {},
   "outputs": [],
   "source": [
    "p = yt.SlicePlot(ds, \"altitude\", 'AIRDENS')\n",
    "p.show()"
   ]
  },
  {
   "cell_type": "markdown",
   "metadata": {},
   "source": [
    "Note that this doesn't have a lot of contextual information. We can add annotations for the coastlines just as we would with matplotlib. Before the annotations are set, we need to call `p._setup_plots` to make the axes available for annotation. "
   ]
  },
  {
   "cell_type": "code",
   "execution_count": null,
   "metadata": {},
   "outputs": [],
   "source": [
    "p = yt.SlicePlot(ds, \"altitude\", 'AIRDENS')\n",
    "p._setup_plots()\n",
    "p.plots['AIRDENS'].axes.set_global()\n",
    "p.plots['AIRDENS'].axes.coastlines()\n",
    "p.show()"
   ]
  },
  {
   "cell_type": "markdown",
   "metadata": {},
   "source": [
    "### Using geographic transforms to project data"
   ]
  },
  {
   "cell_type": "markdown",
   "metadata": {},
   "source": [
    "If a projection other than the default `Mollweide` is desired, then we can pass an argument to the `set_mpl_projection()` function to set a different projection than the default. This will set the projection to a Robinson projection. "
   ]
  },
  {
   "cell_type": "code",
   "execution_count": null,
   "metadata": {},
   "outputs": [],
   "source": [
    "p = yt.SlicePlot(ds, \"altitude\", 'AIRDENS')\n",
    "p.set_mpl_projection(\"Robinson\")\n",
    "p._setup_plots()\n",
    "p.plots['AIRDENS'].axes.set_global()\n",
    "p.plots['AIRDENS'].axes.coastlines()\n",
    "p.show()"
   ]
  },
  {
   "cell_type": "markdown",
   "metadata": {},
   "source": [
    "`geo_projection` accepts a string or a 2- to 3- length sequenece describing the projection the second item in the sequence are the args and the third item is the kwargs. This can be used for further customization of the projection. "
   ]
  },
  {
   "cell_type": "code",
   "execution_count": null,
   "metadata": {},
   "outputs": [],
   "source": [
    "p = yt.SlicePlot(ds, \"altitude\", 'AIRDENS')\n",
    "p.set_mpl_projection((\"Robinson\",(37.5,)))\n",
    "p._setup_plots()\n",
    "p.plots['AIRDENS'].axes.set_global()\n",
    "p.plots['AIRDENS'].axes.coastlines()\n",
    "p.show()"
   ]
  },
  {
   "cell_type": "markdown",
   "metadata": {},
   "source": [
    "We don't actually need to keep creating a SlicePlot to change the projection type. We can use the function `set_mpl_projection()` and pass in a string of the transform type that we desire after an existing `SlicePlot` instance has been created. This will set the figure to an `Orthographic` projection. "
   ]
  },
  {
   "cell_type": "code",
   "execution_count": null,
   "metadata": {},
   "outputs": [],
   "source": [
    "p.set_mpl_projection('Orthographic')\n",
    "p._setup_plots()\n",
    "p.plots['AIRDENS'].axes.set_global()\n",
    "p.plots['AIRDENS'].axes.coastlines()\n",
    "p.show()"
   ]
  },
  {
   "cell_type": "markdown",
   "metadata": {},
   "source": [
    "`set_mpl_projection()` can be used in a number of ways to customize the projection type. \n",
    "* If a **string** is passed, then the string must correspond to the transform name, which is exclusively cartopy transforms at this time. This looks like: `set_mpl_projection('ProjectionType')`\n",
    "\n",
    "* If a **tuple** is passed, the first item of the tuple is a string of the transform name and the second two items are args and kwargs. These can be used to further customize the transform (by setting the latitude and longitude, for example. This looks like: \n",
    "  * `set_mpl_projection(('ProjectionType', (args)))`\n",
    "  * `set_mpl_projection(('ProjectionType', (args), {kwargs}))`\n",
    "* A **transform object** can also be passed. This can be any transform type -- a cartopy transform or a matplotlib transform. This allows users to either pass the same tranform object around between plots or define their own transform and use that in yt's plotting functions. With a standard cartopy transform, this would look like:\n",
    "  * `set_mpl_projection(cartopy.crs.PlateCarree())`\n",
    "  \n",
    "To summarize:\n",
    "The function `set_mpl_projection` can take one of several input types:\n",
    "* `set_mpl_projection('ProjectionType')`\n",
    "* `set_mpl_projection(('ProjectionType', (args)))`\n",
    "* `set_mpl_projection(('ProjectionType', (args), {kwargs}))`\n",
    "* `set_mpl_projection(cartopy.crs.MyTransform())`\n",
    "\n",
    "For example, we can make the same Orthographic projection and pass in the central latitude and longitude for the projection: "
   ]
  },
  {
   "cell_type": "code",
   "execution_count": null,
   "metadata": {},
   "outputs": [],
   "source": [
    "p.set_mpl_projection(('Orthographic', (90, 45)))\n",
    "p._setup_plots()\n",
    "p.plots['AIRDENS'].axes.set_global()\n",
    "p.plots['AIRDENS'].axes.coastlines()\n",
    "p.show()"
   ]
  },
  {
   "cell_type": "markdown",
   "metadata": {},
   "source": [
    "Or we can pass in the arguments to this function as kwargs by passing a three element tuple. "
   ]
  },
  {
   "cell_type": "code",
   "execution_count": null,
   "metadata": {},
   "outputs": [],
   "source": [
    "p.set_mpl_projection(('Orthographic', (), {'central_latitude':-45, 'central_longitude':275}))\n",
    "p._setup_plots()\n",
    "p.plots['AIRDENS'].axes.set_global()\n",
    "p.plots['AIRDENS'].axes.coastlines()\n",
    "p.show()"
   ]
  },
  {
   "cell_type": "markdown",
   "metadata": {},
   "source": [
    "### A few examples of different projections"
   ]
  },
  {
   "cell_type": "markdown",
   "metadata": {},
   "source": [
    "This next section will show a few of the different projections that one can use. This isn't meant to be complete, but it'll give you a visual idea of how these transforms can be used to illustrate geographic data for different purposes. "
   ]
  },
  {
   "cell_type": "code",
   "execution_count": null,
   "metadata": {},
   "outputs": [],
   "source": [
    "p.set_mpl_projection(('RotatedPole', (177.5, 37.5)))\n",
    "p._setup_plots()\n",
    "p.plots['AIRDENS'].axes.set_global()\n",
    "p.plots['AIRDENS'].axes.coastlines()\n",
    "p.show()"
   ]
  },
  {
   "cell_type": "code",
   "execution_count": null,
   "metadata": {},
   "outputs": [],
   "source": [
    "p.set_mpl_projection(('RotatedPole', (), {'pole_latitude':37.5, 'pole_longitude':177.5}))\n",
    "p._setup_plots()\n",
    "p.plots['AIRDENS'].axes.set_global()\n",
    "p.plots['AIRDENS'].axes.coastlines()\n",
    "p.show()"
   ]
  },
  {
   "cell_type": "code",
   "execution_count": null,
   "metadata": {},
   "outputs": [],
   "source": [
    "p.set_mpl_projection('NorthPolarStereo')\n",
    "p._setup_plots()\n",
    "p.plots['AIRDENS'].axes.set_global()\n",
    "p.plots['AIRDENS'].axes.coastlines()\n",
    "p.show()"
   ]
  },
  {
   "cell_type": "code",
   "execution_count": null,
   "metadata": {},
   "outputs": [],
   "source": [
    "p.set_mpl_projection('AlbersEqualArea')\n",
    "p._setup_plots()\n",
    "p.plots['AIRDENS'].axes.set_global()\n",
    "p.plots['AIRDENS'].axes.coastlines()\n",
    "p.show()"
   ]
  },
  {
   "cell_type": "code",
   "execution_count": null,
   "metadata": {},
   "outputs": [],
   "source": [
    "p.set_mpl_projection('InterruptedGoodeHomolosine')\n",
    "p._setup_plots()\n",
    "p.plots['AIRDENS'].axes.set_global()\n",
    "p.plots['AIRDENS'].axes.coastlines()\n",
    "p.show()"
   ]
  },
  {
   "cell_type": "code",
   "execution_count": null,
   "metadata": {},
   "outputs": [],
   "source": [
    "p.set_mpl_projection('Robinson')\n",
    "p._setup_plots()\n",
    "p.plots['AIRDENS'].axes.set_global()\n",
    "p.plots['AIRDENS'].axes.coastlines()\n",
    "p.show()"
   ]
  },
  {
   "cell_type": "code",
   "execution_count": null,
   "metadata": {},
   "outputs": [],
   "source": [
    "p.set_mpl_projection('Gnomonic')\n",
    "p._setup_plots()\n",
    "p.plots['AIRDENS'].axes.set_global()\n",
    "p.plots['AIRDENS'].axes.coastlines()\n",
    "p.show()"
   ]
  },
  {
   "cell_type": "markdown",
   "metadata": {},
   "source": [
    "### Modifying the data transform"
   ]
  },
  {
   "cell_type": "markdown",
   "metadata": {},
   "source": [
    "While the data projection modifies how the data is displayed in our plot, the data transform describes the coordinate system that the data is actually described by. By default, the data is assumed to have a `PlateCarree` data transform. If you would like to change this, you can access the dictionary in the coordinate handler and set it to something else. The dictionary is structured such that each axis has its own default transform, so be sure to set the axis you intend to change. This next example changes the transform to a Miller type. Because our data is not in Miller coordiantes, it will be skewed. "
   ]
  },
  {
   "cell_type": "code",
   "execution_count": null,
   "metadata": {},
   "outputs": [],
   "source": [
    "ds.coordinates.data_transform[\"altitude\"]=\"Miller\"\n",
    "p = yt.SlicePlot(ds, \"altitude\", 'AIRDENS')\n",
    "p.plots['AIRDENS'].axes.set_global()\n",
    "p.plots['AIRDENS'].axes.coastlines()\n",
    "p.show()"
   ]
  },
  {
   "cell_type": "markdown",
   "metadata": {},
   "source": [
    "Because the transform type shouldn't change as we make subsequent figures, once it is changed it will be the same for all other figures made with the same dataset object. Note that this particular dataset is not actually in a Miller system, which is why the data now doesn't span the entire globe. Setting the new projection to Robinson results in Miller-skewed data in our next figure. "
   ]
  },
  {
   "cell_type": "code",
   "execution_count": null,
   "metadata": {},
   "outputs": [],
   "source": [
    "p.set_mpl_projection('Robinson')\n",
    "p._setup_plots()\n",
    "p.plots['AIRDENS'].axes.set_global()\n",
    "p.plots['AIRDENS'].axes.coastlines()\n",
    "p.show()"
   ]
  }
 ],
 "metadata": {
  "kernelspec": {
   "display_name": "Python 3",
   "language": "python",
   "name": "python3"
  },
  "language_info": {
   "codemirror_mode": {
    "name": "ipython",
    "version": 3
   },
   "file_extension": ".py",
   "mimetype": "text/x-python",
   "name": "python",
   "nbconvert_exporter": "python",
   "pygments_lexer": "ipython3",
   "version": "3.6.5"
  }
 },
 "nbformat": 4,
 "nbformat_minor": 2
}
