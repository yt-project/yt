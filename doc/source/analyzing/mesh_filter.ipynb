{
 "cells": [
  {
   "cell_type": "markdown",
   "metadata": {},
   "source": [
    "Let us demonstrate this with an example using the same dataset as we used with the boolean masks."
   ]
  },
  {
   "cell_type": "code",
   "execution_count": null,
   "metadata": {},
   "outputs": [],
   "source": [
    "import yt\n",
    "\n",
    "ds = yt.load(\"Enzo_64/DD0042/data0042\")"
   ]
  },
  {
   "cell_type": "markdown",
   "metadata": {},
   "source": [
    "The only argument to a cut region is a conditional on field output from a data object.  The only catch is that you *must* denote the data object in the conditional as \"obj\" regardless of the actual object's name.  \n",
    "\n",
    "Here we create three new data objects which are copies of the all_data object (a region object covering the entire spatial domain of the simulation), but we've filtered on just \"hot\" material, the \"dense\" material, and the \"overpressure and fast\" material."
   ]
  },
  {
   "cell_type": "code",
   "execution_count": null,
   "metadata": {},
   "outputs": [],
   "source": [
    "ad = ds.all_data()\n",
    "hot_ad = ad.cut_region(['obj[\"gas\", \"temperature\"] > 1e6'])\n",
    "dense_ad = ad.cut_region(['obj[\"gas\", \"density\"] > 5e-30'])\n",
    "\n",
    "# you can chain cut regions in two ways:\n",
    "dense_and_cool_ad = dense_ad.cut_region(['obj[\"gas\", \"temperature\"] < 1e5'])\n",
    "overpressure_and_fast_ad = ad.cut_region(\n",
    "    [\n",
    "        '(obj[\"gas\", \"pressure\"] > 1e-14) & (obj[\"gas\", \"velocity_magnitude\"].in_units(\"km/s\") > 1e2)'\n",
    "    ]\n",
    ")"
   ]
  },
  {
   "cell_type": "markdown",
   "metadata": {},
   "source": [
    "You can also construct a cut_region using the include_ and exclude_ functions as well."
   ]
  },
  {
   "cell_type": "code",
   "execution_count": null,
   "metadata": {},
   "outputs": [],
   "source": [
    "ad = ds.all_data()\n",
    "hot_ad = ad.include_above((\"gas\", \"temperature\"), 1e6)\n",
    "dense_ad = ad.include_above((\"gas\", \"density\"), 5e-30)\n",
    "\n",
    "# These can be chained as well\n",
    "dense_and_cool_ad = dense_ad.include_below((\"gas\", \"temperature\"), 1e5)\n",
    "overpressure_and_fast_ad = ad.include_above((\"gas\", \"pressure\"), 1e-14)\n",
    "overpressure_and_fast_ad = overpressure_and_fast_ad.include_above(\n",
    "    (\"gas\", \"velocity_magnitude\"), 1e2, \"km/s\"\n",
    ")"
   ]
  },
  {
   "cell_type": "markdown",
   "metadata": {},
   "source": [
    "Upon inspection of our \"hot_ad\" object, we can still get the same results as we got with the boolean masks example above:"
   ]
  },
  {
   "cell_type": "code",
   "execution_count": null,
   "metadata": {},
   "outputs": [],
   "source": [
    "print(\n",
    "    \"Temperature of all cells:\\n ad['temperature'] = \\n%s\\n\" % ad[\"gas\", \"temperature\"]\n",
    ")\n",
    "print(\n",
    "    \"Temperatures of all \\\"hot\\\" cells:\\n hot_ad['temperature'] = \\n%s\"\n",
    "    % hot_ad[\"gas\", \"temperature\"]\n",
    ")"
   ]
  },
  {
   "cell_type": "code",
   "execution_count": null,
   "metadata": {},
   "outputs": [],
   "source": [
    "print(\n",
    "    \"Density of dense, cool material:\\n dense_and_cool_ad['density'] = \\n%s\\n\"\n",
    "    % dense_and_cool_ad[\"gas\", \"density\"]\n",
    ")\n",
    "print(\n",
    "    \"Temperature of dense, cool material:\\n dense_and_cool_ad['temperature'] = \\n%s\"\n",
    "    % dense_and_cool_ad[\"gas\", \"temperature\"]\n",
    ")"
   ]
  },
  {
   "cell_type": "markdown",
   "metadata": {},
   "source": [
    "Now that we've constructed a `cut_region`, we can use it as a data source for further analysis. To create a plot based on a `cut_region`, use the `data_source` keyword argument provided by yt's plotting objects.\n",
    "\n",
    "Here's an example using projections:"
   ]
  },
  {
   "cell_type": "code",
   "execution_count": null,
   "metadata": {},
   "outputs": [],
   "source": [
    "proj1 = yt.ProjectionPlot(ds, \"x\", (\"gas\", \"density\"), weight_field=(\"gas\", \"density\"))\n",
    "proj1.annotate_title(\"No Cuts\")\n",
    "proj1.set_figure_size(5)\n",
    "proj1.show()\n",
    "\n",
    "proj2 = yt.ProjectionPlot(\n",
    "    ds, \"x\", (\"gas\", \"density\"), weight_field=(\"gas\", \"density\"), data_source=hot_ad\n",
    ")\n",
    "proj2.annotate_title(\"Hot Gas\")\n",
    "proj2.set_zlim((\"gas\", \"density\"), 3e-31, 3e-27)\n",
    "proj2.set_figure_size(5)\n",
    "proj2.show()"
   ]
  },
  {
   "cell_type": "markdown",
   "metadata": {},
   "source": []
  },
  {
   "cell_type": "markdown",
   "metadata": {},
   "source": [
    "The `data_source` keyword argument is also accepted by `SlicePlot`, `ProfilePlot` and `PhasePlot`:"
   ]
  },
  {
   "cell_type": "code",
   "execution_count": null,
   "metadata": {},
   "outputs": [],
   "source": [
    "slc1 = yt.SlicePlot(ds, \"x\", (\"gas\", \"density\"), center=\"m\")\n",
    "slc1.set_zlim((\"gas\", \"density\"), 3e-31, 3e-27)\n",
    "slc1.annotate_title(\"No Cuts\")\n",
    "slc1.set_figure_size(5)\n",
    "slc1.show()\n",
    "\n",
    "slc2 = yt.SlicePlot(ds, \"x\", (\"gas\", \"density\"), center=\"m\", data_source=dense_ad)\n",
    "slc2.set_zlim((\"gas\", \"density\"), 3e-31, 3e-27)\n",
    "slc2.annotate_title(\"Dense Gas\")\n",
    "slc2.set_figure_size(5)\n",
    "slc2.show()"
   ]
  },
  {
   "cell_type": "code",
   "execution_count": null,
   "metadata": {},
   "outputs": [],
   "source": [
    "ph1 = yt.PhasePlot(\n",
    "    ad, (\"gas\", \"density\"), (\"gas\", \"temperature\"), (\"gas\", \"mass\"), weight_field=None\n",
    ")\n",
    "ph1.set_xlim(3e-31, 3e-27)\n",
    "ph1.annotate_title(\"No Cuts\")\n",
    "ph1.set_figure_size(5)\n",
    "ph1.show()\n",
    "\n",
    "ph1 = yt.PhasePlot(\n",
    "    dense_ad,\n",
    "    (\"gas\", \"density\"),\n",
    "    (\"gas\", \"temperature\"),\n",
    "    (\"gas\", \"mass\"),\n",
    "    weight_field=None,\n",
    ")\n",
    "ph1.set_xlim(3e-31, 3e-27)\n",
    "ph1.annotate_title(\"Dense Gas\")\n",
    "ph1.set_figure_size(5)\n",
    "ph1.show()"
   ]
  },
  {
   "cell_type": "code",
   "execution_count": null,
   "metadata": {},
   "outputs": [],
   "source": []
  }
 ],
 "metadata": {
  "kernelspec": {
   "display_name": "Python 3",
   "language": "python",
   "name": "python3"
  },
  "language_info": {
   "codemirror_mode": {
    "name": "ipython",
    "version": 3
   },
   "file_extension": ".py",
   "mimetype": "text/x-python",
   "name": "python",
   "nbconvert_exporter": "python",
   "pygments_lexer": "ipython3",
   "version": "3.6.3"
  }
 },
 "nbformat": 4,
 "nbformat_minor": 1
}
