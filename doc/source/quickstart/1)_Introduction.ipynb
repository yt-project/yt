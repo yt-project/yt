{
 "cells": [
  {
   "cell_type": "markdown",
   "metadata": {},
   "source": [
    "# Welcome to the yt quickstart!\n",
    "\n",
    "In this brief tutorial, we'll go over how to load up data, analyze things, inspect your data, and make some visualizations.\n",
    "\n",
    "Our documentation page can provide information on a variety of the commands that are used here, both in narrative documentation as well as recipes for specific functionality in our cookbook.  The documentation exists at https://yt-project.org/doc/.  If you encounter problems, look for help here: https://yt-project.org/doc/help/index.html."
   ]
  },
  {
   "cell_type": "markdown",
   "metadata": {},
   "source": [
    "## Acquiring the datasets for this tutorial\n",
    "\n",
    "If you are executing these tutorials interactively, you need some sample datasets on which to run the code.  You can download these datasets at https://yt-project.org/data/, or you can use the built-in yt sample data loader (using [pooch](https://www.fatiando.org/pooch/latest/api/index.html) under the hood) to automatically download the data for you.\n",
    "\n",
    "The datasets necessary for each lesson are noted next to the corresponding tutorial, and by default it will use the pooch-based dataset downloader.  If you would like to supply your own paths, you can choose to do so.\n",
    "\n",
    "## Using the Automatic Downloader\n",
    "\n",
    "For the purposes of this tutorial, or whenever you want to use sample data, you can use the `load_sample` command to utilize the pooch auto-downloader.  For instance:\n",
    "\n",
    "```python\n",
    "ds = yt.load_sample(\"IsolatedGalaxy\")\n",
    "```\n",
    "\n",
    "## Using manual loading\n",
    "\n",
    "The way you will *most frequently* interact with `yt` is using the standard `load` command.  This accepts a path and optional arguments.  For instance:\n",
    "\n",
    "```python\n",
    "ds = yt.load(\"IsolatedGalaxy/galaxy0030/galaxy0030\")\n",
    "```\n",
    "\n",
    "would load the `IsolatedGalaxy` dataset by supplying the full path to the parameter file."
   ]
  },
  {
   "cell_type": "markdown",
   "metadata": {},
   "source": [
    "## What's Next?\n",
    "\n",
    "The Notebooks are meant to be explored in this order:\n",
    "\n",
    "1. Introduction (this file!)\n",
    "2. Data Inspection (IsolatedGalaxy dataset)\n",
    "3. Simple Visualization (enzo_tiny_cosmology & Enzo_64 datasets)\n",
    "4. Data Objects and Time Series (IsolatedGalaxy dataset)\n",
    "5. Derived Fields and Profiles (IsolatedGalaxy dataset)\n",
    "6. Volume Rendering (IsolatedGalaxy dataset)"
   ]
  }
 ],
 "metadata": {
  "kernelspec": {
   "display_name": "Python 3",
   "language": "python",
   "name": "python3"
  },
  "language_info": {
   "codemirror_mode": {
    "name": "ipython",
    "version": 3
   },
   "file_extension": ".py",
   "mimetype": "text/x-python",
   "name": "python",
   "nbconvert_exporter": "python",
   "pygments_lexer": "ipython3",
   "version": "3.7.3"
  }
 },
 "nbformat": 4,
 "nbformat_minor": 0
}
