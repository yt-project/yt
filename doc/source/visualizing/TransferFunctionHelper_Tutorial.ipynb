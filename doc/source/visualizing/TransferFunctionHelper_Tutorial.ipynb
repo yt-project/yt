{
 "cells": [
  {
   "cell_type": "markdown",
   "metadata": {},
   "source": [
    "Here, we explain how to use TransferFunctionHelper to visualize and interpret yt volume rendering transfer functions.  Creating a custom transfer function is a process that usually involves some trial-and-error. TransferFunctionHelper is a utility class designed to help you visualize the probability density functions of yt fields that you might want to volume render.  This makes it easier to choose a nice transfer function that highlights interesting physical regimes.\n",
    "\n",
    "First, we set up our namespace and define a convenience function to display volume renderings inline in the notebook.  Using `%matplotlib inline` makes it so matplotlib plots display inline in the notebook."
   ]
  },
  {
   "cell_type": "code",
   "execution_count": null,
   "metadata": {
    "collapsed": false
   },
   "outputs": [],
   "source": [
    "import numpy as np\n",
    "from IPython.core.display import Image\n",
    "\n",
    "import yt\n",
    "from yt.visualization.volume_rendering.transfer_function_helper import (\n",
    "    TransferFunctionHelper,\n",
    ")\n",
    "\n",
    "\n",
    "def showme(im):\n",
    "    # screen out NaNs\n",
    "    im[im != im] = 0.0\n",
    "\n",
    "    # Create an RGBA bitmap to display\n",
    "    imb = yt.write_bitmap(im, None)\n",
    "    return Image(imb)"
   ]
  },
  {
   "cell_type": "markdown",
   "metadata": {},
   "source": [
    "Next, we load up a low resolution Enzo cosmological simulation."
   ]
  },
  {
   "cell_type": "code",
   "execution_count": null,
   "metadata": {
    "collapsed": false
   },
   "outputs": [],
   "source": [
    "ds = yt.load(\"Enzo_64/DD0043/data0043\")"
   ]
  },
  {
   "cell_type": "markdown",
   "metadata": {},
   "source": [
    "Now that we have the dataset loaded, let's create a `TransferFunctionHelper` to visualize the dataset and transfer function we'd like to use."
   ]
  },
  {
   "cell_type": "code",
   "execution_count": null,
   "metadata": {
    "collapsed": false
   },
   "outputs": [],
   "source": [
    "tfh = TransferFunctionHelper(ds)"
   ]
  },
  {
   "cell_type": "markdown",
   "metadata": {},
   "source": [
    "`TransferFunctionHelpler` will intelligently choose transfer function bounds based on the data values.  Use the `plot()` method to take a look at the transfer function."
   ]
  },
  {
   "cell_type": "code",
   "execution_count": null,
   "metadata": {
    "collapsed": false
   },
   "outputs": [],
   "source": [
    "# Build a transfer function that is a multivariate gaussian in temperature\n",
    "tfh = TransferFunctionHelper(ds)\n",
    "tfh.set_field((\"gas\", \"temperature\"))\n",
    "tfh.set_log(True)\n",
    "tfh.set_bounds()\n",
    "tfh.build_transfer_function()\n",
    "tfh.tf.add_layers(5)\n",
    "tfh.plot()"
   ]
  },
  {
   "cell_type": "markdown",
   "metadata": {},
   "source": [
    "Let's also look at the probability density function of the `mass` field as a function of `temperature`.  This might give us an idea where there is a lot of structure. "
   ]
  },
  {
   "cell_type": "code",
   "execution_count": null,
   "metadata": {
    "collapsed": false
   },
   "outputs": [],
   "source": [
    "tfh.plot(profile_field=(\"gas\", \"mass\"))"
   ]
  },
  {
   "cell_type": "markdown",
   "metadata": {},
   "source": [
    "It looks like most of the gas is hot but there is still a lot of low-density cool gas.  Let's construct a transfer function that highlights both the rarefied hot gas and the dense cool gas simultaneously."
   ]
  },
  {
   "cell_type": "code",
   "execution_count": null,
   "metadata": {
    "collapsed": false
   },
   "outputs": [],
   "source": [
    "tfh = TransferFunctionHelper(ds)\n",
    "tfh.set_field((\"gas\", \"temperature\"))\n",
    "tfh.set_bounds()\n",
    "tfh.set_log(True)\n",
    "tfh.build_transfer_function()\n",
    "tfh.tf.add_layers(\n",
    "    8,\n",
    "    w=0.01,\n",
    "    mi=4.0,\n",
    "    ma=8.0,\n",
    "    col_bounds=[4.0, 8.0],\n",
    "    alpha=np.logspace(-1, 2, 7),\n",
    "    colormap=\"RdBu_r\",\n",
    ")\n",
    "tfh.tf.map_to_colormap(6.0, 8.0, colormap=\"Reds\")\n",
    "tfh.tf.map_to_colormap(-1.0, 6.0, colormap=\"Blues_r\")\n",
    "\n",
    "tfh.plot(profile_field=(\"gas\", \"mass\"))"
   ]
  },
  {
   "cell_type": "markdown",
   "metadata": {},
   "source": [
    "Let's take a look at the volume rendering. First use the helper function to create a default rendering, then we override this with the transfer function we just created."
   ]
  },
  {
   "cell_type": "code",
   "execution_count": null,
   "metadata": {
    "collapsed": false
   },
   "outputs": [],
   "source": [
    "im, sc = yt.volume_render(ds, [(\"gas\", \"temperature\")])\n",
    "\n",
    "source = sc.get_source()\n",
    "source.set_transfer_function(tfh.tf)\n",
    "im2 = sc.render()\n",
    "\n",
    "showme(im2[:, :, :3])"
   ]
  },
  {
   "cell_type": "markdown",
   "metadata": {},
   "source": [
    "That looks okay, but the red gas (associated with temperatures between 1e6 and 1e8 K) is a bit hard to see in the image. To fix this, we can make that gas contribute a larger alpha value to the image by using the ``scale`` keyword argument in ``map_to_colormap``."
   ]
  },
  {
   "cell_type": "code",
   "execution_count": null,
   "metadata": {
    "collapsed": false
   },
   "outputs": [],
   "source": [
    "tfh2 = TransferFunctionHelper(ds)\n",
    "tfh2.set_field((\"gas\", \"temperature\"))\n",
    "tfh2.set_bounds()\n",
    "tfh2.set_log(True)\n",
    "tfh2.build_transfer_function()\n",
    "tfh2.tf.add_layers(\n",
    "    8,\n",
    "    w=0.01,\n",
    "    mi=4.0,\n",
    "    ma=8.0,\n",
    "    col_bounds=[4.0, 8.0],\n",
    "    alpha=np.logspace(-1, 2, 7),\n",
    "    colormap=\"RdBu_r\",\n",
    ")\n",
    "tfh2.tf.map_to_colormap(6.0, 8.0, colormap=\"Reds\", scale=5.0)\n",
    "tfh2.tf.map_to_colormap(-1.0, 6.0, colormap=\"Blues_r\", scale=1.0)\n",
    "\n",
    "tfh2.plot(profile_field=(\"gas\", \"mass\"))"
   ]
  },
  {
   "cell_type": "markdown",
   "metadata": {},
   "source": [
    "Note that the height of the red portion of the transfer function has increased by a factor of 5.0. If we use this transfer function to make the final image:"
   ]
  },
  {
   "cell_type": "code",
   "execution_count": null,
   "metadata": {
    "collapsed": false
   },
   "outputs": [],
   "source": [
    "source.set_transfer_function(tfh2.tf)\n",
    "im3 = sc.render()\n",
    "\n",
    "showme(im3[:, :, :3])"
   ]
  },
  {
   "cell_type": "markdown",
   "metadata": {},
   "source": [
    "The red gas is now much more prominent in the image. We can clearly see that the hot gas is mostly associated with bound structures while the cool gas is associated with low-density voids."
   ]
  }
 ],
 "metadata": {
  "kernelspec": {
   "display_name": "Python 3",
   "language": "python",
   "name": "python3"
  },
  "language_info": {
   "codemirror_mode": {
    "name": "ipython",
    "version": 3
   },
   "file_extension": ".py",
   "mimetype": "text/x-python",
   "name": "python",
   "nbconvert_exporter": "python",
   "pygments_lexer": "ipython3",
   "version": "3.5.1"
  }
 },
 "nbformat": 4,
 "nbformat_minor": 0
}
