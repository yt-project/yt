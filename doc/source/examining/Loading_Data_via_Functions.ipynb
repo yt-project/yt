{
 "cells": [
  {
   "cell_type": "markdown",
   "id": "35cb9c22-04eb-476c-a7b6-afd27690be4d",
   "metadata": {},
   "source": [
    "# Loading Data via Functions\n",
    "\n",
    "One of the things that yt provides is the notion of \"derived fields.\"  These are fields that exist only in memory, and are defined by a functional form, typically transforming other fields.  Starting with version 4.1 of yt, however, we have made it much, much easier to define so-called \"on-disk\" fields through their functional forms, akin to how derived fields are generated.  **At present, this is only available for grid-based frontends.  Extension to other types is anticipated in future versions of yt.**\n",
    "\n",
    "What this means is that if you have a way to grab data -- at any resolution -- but don't want to either load it into memory in advance or write a complete \"frontend\", you can just write some functions and use those to construct a fully-functional dataset using the existing `load_amr_grids` and `load_uniform_grid` functions, supplying *functions* instead of arrays.\n",
    "\n",
    "There are a few immediate use cases that can be seen for this:\n",
    "\n",
    " - Data is accessible through another library, for instance if a library exists that reads subsets of data (or regularizes that data to given regions) or if you are calling yt from an *in situ* analysis library\n",
    " - Data can be remotely accessed on-demand\n",
    " - You have a straightforward data format for which a frontend does not exist\n",
    " - All of the data can be generated through an analytical definition\n",
    " \n",
    "The last one is what we'll use to demonstrate this.  Let's imagine that I had a grid structure that I wanted to explore, but I wanted all of my data to be generated through functions that were exclusively dependent on the spatial position."
   ]
  },
  {
   "cell_type": "code",
   "execution_count": null,
   "id": "fd2b8726-5e3b-4641-8b13-7c1163336c8b",
   "metadata": {},
   "outputs": [],
   "source": [
    "import matplotlib.pyplot as plt\n",
    "import numpy as np\n",
    "\n",
    "import yt"
   ]
  },
  {
   "cell_type": "markdown",
   "id": "2f2074a7-a71a-4032-8e92-11e908e0f15c",
   "metadata": {},
   "source": [
    "The example we've cooked up is going to be a bit silly, and we'll demonstrate it a little bit with one and two dimensional setups before getting into the full yt demonstration.  (If you have ideas for a better one, please do suggest them!)  We'll start with some overlapping trigonometric functions, which we'll attenuate by their distance from the center.\n",
    "\n",
    "So we'll set up some coefficients for different periods of the functions (the `coefficients` variable) and we'll sum up those functions.  The next thing we'll do, so that we have some global attenuation we can see, is use a Gaussian function centered at the center of our domain."
   ]
  },
  {
   "cell_type": "code",
   "execution_count": null,
   "id": "27180398-def2-4a65-bc3f-c807ee0c13a4",
   "metadata": {},
   "outputs": [],
   "source": [
    "x = np.mgrid[0.0:1.0:512j]\n",
    "coefficients = (100, 50, 30, 10)\n",
    "y = sum(c * np.sin(2 ** (2 + i) * (x * np.pi * 2)) for i, c in enumerate(coefficients))\n",
    "atten = np.exp(-20 * (1.1 * (x - 0.5)) ** 2)"
   ]
  },
  {
   "cell_type": "markdown",
   "id": "22c9b8e5-32ca-4402-95e6-452b3d71418c",
   "metadata": {},
   "source": [
    "Now let's plot it!  The top right is the attenuation, bottom left is the base sum of trig functions, and then the bottom right is the product."
   ]
  },
  {
   "cell_type": "code",
   "execution_count": null,
   "id": "dbd391fb-10ff-4f2e-8b3e-bbd11f4cc4a6",
   "metadata": {},
   "outputs": [],
   "source": [
    "fig, ((ax1, ax2), (ax3, ax4)) = plt.subplots(2, 2, dpi=150)\n",
    "ax4.plot(x, y * atten)\n",
    "ax2.plot(x, atten)\n",
    "ax3.plot(x, y)\n",
    "ax1.axis(False);"
   ]
  },
  {
   "cell_type": "markdown",
   "id": "958c652a-987a-40cf-86ff-fa0bd7050996",
   "metadata": {},
   "source": [
    "Well, that looks like it might have some structure at different scales!  We should be able to use something like this to show sampling errors and so on in AMR, and it'll have structure down to a reasonably high level of detail.  Let's briefly demonstrate in 2D before moving on to 3D, using similar functions.  This is all basically the same as the previous cells, except we're overlaying along a couple different dimensions."
   ]
  },
  {
   "cell_type": "code",
   "execution_count": null,
   "id": "9e7897e1-b593-43bc-aeaa-1e86ff94566a",
   "metadata": {},
   "outputs": [],
   "source": [
    "x, y = np.mgrid[0.0:1.0:512j, 0.0:1.0:512j]\n",
    "\n",
    "x_coefficients = (100, 50, 30, 10)\n",
    "y_coefficients = (20, 90, 80, 30)\n",
    "\n",
    "z = sum(\n",
    "    c * np.sin(2 ** (1 + i) * (x * np.pi * 2 + 2**i))\n",
    "    for i, c in enumerate(x_coefficients)\n",
    ") * sum(\n",
    "    c * np.sin(2 ** (1 + i) * (y * np.pi * 2 + 2**i))\n",
    "    for i, c in enumerate(y_coefficients)\n",
    ")\n",
    "r = np.sqrt(((x - 0.5) ** 2) + ((y - 0.5) ** 2))\n",
    "atten = np.exp(-20 * (1.1 * r**2))\n",
    "\n",
    "plt.pcolormesh(x, y, z * atten)"
   ]
  },
  {
   "cell_type": "markdown",
   "id": "2fc53e45-ff35-4d15-a2eb-b74a32be9609",
   "metadata": {},
   "source": [
    "This is an image of the full dataset, but what happens if we coarsely sample, as we would in AMR simulations?  We can stride along the axes (let's say, every 32nd point) to get an idea of what that looks like."
   ]
  },
  {
   "cell_type": "code",
   "execution_count": null,
   "id": "797c884d-3ccb-412b-af13-a46de54e5ab9",
   "metadata": {},
   "outputs": [],
   "source": [
    "plt.pcolormesh(x[::32, ::32], y[::32, ::32], (z * atten)[::32, ::32])"
   ]
  },
  {
   "cell_type": "markdown",
   "id": "9355880c-8579-4dd9-b24f-bf931f1d84f3",
   "metadata": {},
   "source": [
    "For moving to 3D, I'm going to add on some higher-frequency modes, which I'll also amplify a bit more.  We'll use the standard attenuation (although a directionally-dependent attenuation would be nice, wouldn't it?)\n",
    "\n",
    "And this time, we'll write them into a *special* function.  This is the function we'll use to supply to our `load_amr_grids` function -- it has different arguments than a derived field; because it is assumed to always return three-dimensional data, it accepts a proper grid object (which may have spatial or other attributes) and it also receives the field name.\n",
    "\n",
    "Using this, we will compute the cell-centers for all of the cells in the grid, and use them to compute our overlapping functions and apply the attenuation.  In doing so, we should be able to see structure at different levels.  This is the same way you would write a function that loaded a file from disk, or received over HTTP, or used a library to read data; by having access to the grid and the field name, it should be completely determinative of how to access the data."
   ]
  },
  {
   "cell_type": "code",
   "execution_count": null,
   "id": "9ce0d056-2e08-4ff2-bddf-1594cfa4a801",
   "metadata": {},
   "outputs": [],
   "source": [
    "x_coefficients = (100, 50, 30, 10, 20)\n",
    "y_coefficients = (20, 90, 80, 30, 30)\n",
    "z_coefficients = (50, 10, 90, 40, 40)\n",
    "\n",
    "\n",
    "def my_function(grid, field_name):\n",
    "    # We want N points from the cell-center to the cell-center on the other side\n",
    "    x, y, z = (\n",
    "        np.linspace(\n",
    "            grid.LeftEdge[i] + grid.dds[i] / 2,\n",
    "            grid.RightEdge[i] - grid.dds[i] / 2,\n",
    "            grid.ActiveDimensions[i],\n",
    "        )\n",
    "        for i in (0, 1, 2)\n",
    "    )\n",
    "    r = np.sqrt(\n",
    "        ((x.d - 0.5) ** 2)[:, None, None]\n",
    "        + ((y.d - 0.5) ** 2)[None, :, None]\n",
    "        + ((z.d - 0.5) ** 2)[None, None, :]\n",
    "    )\n",
    "    atten = np.exp(-20 * (1.1 * r**2))\n",
    "    xv = sum(\n",
    "        c * np.sin(2 ** (1 + i) * (x.d * np.pi * 2))\n",
    "        for i, c in enumerate(x_coefficients)\n",
    "    )\n",
    "    yv = sum(\n",
    "        c * np.sin(2 ** (1 + i) * (y.d * np.pi * 2))\n",
    "        for i, c in enumerate(y_coefficients)\n",
    "    )\n",
    "    zv = sum(\n",
    "        c * np.sin(2 ** (1 + i) * (z.d * np.pi * 2))\n",
    "        for i, c in enumerate(z_coefficients)\n",
    "    )\n",
    "    return atten * (xv[:, None, None] * yv[None, :, None] * zv[None, None, :])"
   ]
  },
  {
   "cell_type": "markdown",
   "id": "479d7e97-a3ad-409e-a067-e722b3acab0f",
   "metadata": {},
   "source": [
    "We'll use a standard grid hierarchy -- which is used internally in yt testing -- and fill it up with a single field that provides this function rather than any arrays.  We'll then use `load_amr_grids` to read it; note that we're not creating any arrays ahead of time."
   ]
  },
  {
   "cell_type": "code",
   "execution_count": null,
   "id": "132c3f99-5b6e-4042-8fc5-49acb8cd9d8c",
   "metadata": {},
   "outputs": [],
   "source": [
    "from yt.testing import _amr_grid_index\n",
    "\n",
    "grid_data = []\n",
    "for level, le, re, dims in _amr_grid_index:\n",
    "    grid_data.append(\n",
    "        {\n",
    "            \"level\": level,\n",
    "            \"left_edge\": le,\n",
    "            \"right_edge\": re,\n",
    "            \"dimensions\": dims,\n",
    "            \"density\": my_function,\n",
    "        }\n",
    "    )\n",
    "ds = yt.load_amr_grids(\n",
    "    grid_data, [32, 32, 32], bbox=np.array([[0.0, 1.0], [0.0, 1.0], [0.0, 1.0]])\n",
    ")"
   ]
  },
  {
   "cell_type": "markdown",
   "id": "2972eb49-823b-41d2-a132-4a0fd4be2904",
   "metadata": {},
   "source": [
    "And finally, we'll demonstrate it with a slice along the y axis."
   ]
  },
  {
   "cell_type": "code",
   "execution_count": null,
   "id": "d35407c6-da5d-47e1-93bd-54672c33fbe8",
   "metadata": {},
   "outputs": [],
   "source": [
    "p = ds.r[:, 0.5, :].plot(\"density\").set_log(\"density\", False)"
   ]
  },
  {
   "cell_type": "markdown",
   "id": "cfd5d56e-5d3a-4537-98a5-22f659268f80",
   "metadata": {},
   "source": [
    "And with a quick zoom, we can see that the structure is indeed present *and* subject to the sampling effects we discussed earlier."
   ]
  },
  {
   "cell_type": "code",
   "execution_count": null,
   "id": "aa420efd-536f-45e2-90ae-51bc8dc68c5f",
   "metadata": {},
   "outputs": [],
   "source": [
    "p.zoom(4)"
   ]
  }
 ],
 "metadata": {
  "kernelspec": {
   "display_name": "Python 3 (ipykernel)",
   "language": "python",
   "name": "python3"
  },
  "language_info": {
   "codemirror_mode": {
    "name": "ipython",
    "version": 3
   },
   "file_extension": ".py",
   "mimetype": "text/x-python",
   "name": "python",
   "nbconvert_exporter": "python",
   "pygments_lexer": "ipython3",
   "version": "3.10.12"
  }
 },
 "nbformat": 4,
 "nbformat_minor": 5
}
